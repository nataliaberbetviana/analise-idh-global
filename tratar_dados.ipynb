{
 "cells": [
  {
   "cell_type": "code",
   "id": "initial_id",
   "metadata": {
    "collapsed": true,
    "ExecuteTime": {
     "end_time": "2025-10-24T19:23:18.617362Z",
     "start_time": "2025-10-24T19:23:18.615618Z"
    }
   },
   "source": [
    "#Importando a biblioteca pandas\n",
    "import pandas as pd"
   ],
   "outputs": [],
   "execution_count": 314
  },
  {
   "metadata": {
    "ExecuteTime": {
     "end_time": "2025-10-24T19:23:18.701678Z",
     "start_time": "2025-10-24T19:23:18.666586Z"
    }
   },
   "cell_type": "code",
   "source": [
    "#Lendo a planilha Excel e armazenando na variável df_desenvolvimento\n",
    "df_desenvolvimento = pd.read_excel(\n",
    "    'HDR25_Statistical_Annex_Tables_1-7.xlsx',\n",
    "    sheet_name='Desenvolvimento'\n",
    ")\n",
    "df_desenvolvimento.head()"
   ],
   "id": "5d625ead06b068ee",
   "outputs": [
    {
     "data": {
      "text/plain": [
       "            País    IDH  ESCOLARIDADE  PIB PER CAPITA\n",
       "0  Liechtenstein  0.938     12.409959    166811.67410\n",
       "1         Norway  0.970     13.117962    112710.02110\n",
       "2      Singapore  0.946     11.990000    111239.22910\n",
       "3          Qatar  0.886     10.770000    105353.26800\n",
       "4        Ireland  0.949     11.725000     90884.63459"
      ],
      "text/html": [
       "<div>\n",
       "<style scoped>\n",
       "    .dataframe tbody tr th:only-of-type {\n",
       "        vertical-align: middle;\n",
       "    }\n",
       "\n",
       "    .dataframe tbody tr th {\n",
       "        vertical-align: top;\n",
       "    }\n",
       "\n",
       "    .dataframe thead th {\n",
       "        text-align: right;\n",
       "    }\n",
       "</style>\n",
       "<table border=\"1\" class=\"dataframe\">\n",
       "  <thead>\n",
       "    <tr style=\"text-align: right;\">\n",
       "      <th></th>\n",
       "      <th>País</th>\n",
       "      <th>IDH</th>\n",
       "      <th>ESCOLARIDADE</th>\n",
       "      <th>PIB PER CAPITA</th>\n",
       "    </tr>\n",
       "  </thead>\n",
       "  <tbody>\n",
       "    <tr>\n",
       "      <th>0</th>\n",
       "      <td>Liechtenstein</td>\n",
       "      <td>0.938</td>\n",
       "      <td>12.409959</td>\n",
       "      <td>166811.67410</td>\n",
       "    </tr>\n",
       "    <tr>\n",
       "      <th>1</th>\n",
       "      <td>Norway</td>\n",
       "      <td>0.970</td>\n",
       "      <td>13.117962</td>\n",
       "      <td>112710.02110</td>\n",
       "    </tr>\n",
       "    <tr>\n",
       "      <th>2</th>\n",
       "      <td>Singapore</td>\n",
       "      <td>0.946</td>\n",
       "      <td>11.990000</td>\n",
       "      <td>111239.22910</td>\n",
       "    </tr>\n",
       "    <tr>\n",
       "      <th>3</th>\n",
       "      <td>Qatar</td>\n",
       "      <td>0.886</td>\n",
       "      <td>10.770000</td>\n",
       "      <td>105353.26800</td>\n",
       "    </tr>\n",
       "    <tr>\n",
       "      <th>4</th>\n",
       "      <td>Ireland</td>\n",
       "      <td>0.949</td>\n",
       "      <td>11.725000</td>\n",
       "      <td>90884.63459</td>\n",
       "    </tr>\n",
       "  </tbody>\n",
       "</table>\n",
       "</div>"
      ]
     },
     "execution_count": 315,
     "metadata": {},
     "output_type": "execute_result"
    }
   ],
   "execution_count": 315
  },
  {
   "metadata": {
    "ExecuteTime": {
     "end_time": "2025-10-24T19:23:18.804777Z",
     "start_time": "2025-10-24T19:23:18.782622Z"
    }
   },
   "cell_type": "code",
   "source": [
    "#Lendo a planilha Excel e armazenando na variável df_pais_continente\n",
    "df_continente = pd.read_excel(\n",
    "    'HDR25_Statistical_Annex_Tables_1-7.xlsx',\n",
    "    sheet_name='País - Continente'\n",
    ")\n",
    "\n",
    "df_continente.head()\n"
   ],
   "id": "ce2723bbdd28ad0",
   "outputs": [
    {
     "data": {
      "text/plain": [
       "          País Continente\n",
       "0      Iceland     Europa\n",
       "1       Norway     Europa\n",
       "2  Switzerland     Europa\n",
       "3      Denmark     Europa\n",
       "4      Germany     Europa"
      ],
      "text/html": [
       "<div>\n",
       "<style scoped>\n",
       "    .dataframe tbody tr th:only-of-type {\n",
       "        vertical-align: middle;\n",
       "    }\n",
       "\n",
       "    .dataframe tbody tr th {\n",
       "        vertical-align: top;\n",
       "    }\n",
       "\n",
       "    .dataframe thead th {\n",
       "        text-align: right;\n",
       "    }\n",
       "</style>\n",
       "<table border=\"1\" class=\"dataframe\">\n",
       "  <thead>\n",
       "    <tr style=\"text-align: right;\">\n",
       "      <th></th>\n",
       "      <th>País</th>\n",
       "      <th>Continente</th>\n",
       "    </tr>\n",
       "  </thead>\n",
       "  <tbody>\n",
       "    <tr>\n",
       "      <th>0</th>\n",
       "      <td>Iceland</td>\n",
       "      <td>Europa</td>\n",
       "    </tr>\n",
       "    <tr>\n",
       "      <th>1</th>\n",
       "      <td>Norway</td>\n",
       "      <td>Europa</td>\n",
       "    </tr>\n",
       "    <tr>\n",
       "      <th>2</th>\n",
       "      <td>Switzerland</td>\n",
       "      <td>Europa</td>\n",
       "    </tr>\n",
       "    <tr>\n",
       "      <th>3</th>\n",
       "      <td>Denmark</td>\n",
       "      <td>Europa</td>\n",
       "    </tr>\n",
       "    <tr>\n",
       "      <th>4</th>\n",
       "      <td>Germany</td>\n",
       "      <td>Europa</td>\n",
       "    </tr>\n",
       "  </tbody>\n",
       "</table>\n",
       "</div>"
      ]
     },
     "execution_count": 316,
     "metadata": {},
     "output_type": "execute_result"
    }
   ],
   "execution_count": 316
  },
  {
   "metadata": {
    "ExecuteTime": {
     "end_time": "2025-10-24T19:23:19.049416Z",
     "start_time": "2025-10-24T19:23:19.046679Z"
    }
   },
   "cell_type": "code",
   "source": [
    "#Convertendo os nomes dos países para letras minúsculas\n",
    "df_continente['País'] = df_continente['País'].str.lower()\n",
    "df_desenvolvimento['País'] = df_desenvolvimento['País'].str.lower()"
   ],
   "id": "31fcb8adcd78b09f",
   "outputs": [],
   "execution_count": 317
  },
  {
   "metadata": {
    "ExecuteTime": {
     "end_time": "2025-10-24T19:23:19.107801Z",
     "start_time": "2025-10-24T19:23:19.099085Z"
    }
   },
   "cell_type": "code",
   "source": [
    "#Exibindo as primeiras linhas dos continentes\n",
    "df_continente.head()"
   ],
   "id": "4422b42c53760b7c",
   "outputs": [
    {
     "data": {
      "text/plain": [
       "          País Continente\n",
       "0      iceland     Europa\n",
       "1       norway     Europa\n",
       "2  switzerland     Europa\n",
       "3      denmark     Europa\n",
       "4      germany     Europa"
      ],
      "text/html": [
       "<div>\n",
       "<style scoped>\n",
       "    .dataframe tbody tr th:only-of-type {\n",
       "        vertical-align: middle;\n",
       "    }\n",
       "\n",
       "    .dataframe tbody tr th {\n",
       "        vertical-align: top;\n",
       "    }\n",
       "\n",
       "    .dataframe thead th {\n",
       "        text-align: right;\n",
       "    }\n",
       "</style>\n",
       "<table border=\"1\" class=\"dataframe\">\n",
       "  <thead>\n",
       "    <tr style=\"text-align: right;\">\n",
       "      <th></th>\n",
       "      <th>País</th>\n",
       "      <th>Continente</th>\n",
       "    </tr>\n",
       "  </thead>\n",
       "  <tbody>\n",
       "    <tr>\n",
       "      <th>0</th>\n",
       "      <td>iceland</td>\n",
       "      <td>Europa</td>\n",
       "    </tr>\n",
       "    <tr>\n",
       "      <th>1</th>\n",
       "      <td>norway</td>\n",
       "      <td>Europa</td>\n",
       "    </tr>\n",
       "    <tr>\n",
       "      <th>2</th>\n",
       "      <td>switzerland</td>\n",
       "      <td>Europa</td>\n",
       "    </tr>\n",
       "    <tr>\n",
       "      <th>3</th>\n",
       "      <td>denmark</td>\n",
       "      <td>Europa</td>\n",
       "    </tr>\n",
       "    <tr>\n",
       "      <th>4</th>\n",
       "      <td>germany</td>\n",
       "      <td>Europa</td>\n",
       "    </tr>\n",
       "  </tbody>\n",
       "</table>\n",
       "</div>"
      ]
     },
     "execution_count": 318,
     "metadata": {},
     "output_type": "execute_result"
    }
   ],
   "execution_count": 318
  },
  {
   "metadata": {
    "ExecuteTime": {
     "end_time": "2025-10-24T19:23:19.225743Z",
     "start_time": "2025-10-24T19:23:19.218269Z"
    }
   },
   "cell_type": "code",
   "source": "df_desenvolvimento.head()",
   "id": "525fcbc4a528b8bb",
   "outputs": [
    {
     "data": {
      "text/plain": [
       "            País    IDH  ESCOLARIDADE  PIB PER CAPITA\n",
       "0  liechtenstein  0.938     12.409959    166811.67410\n",
       "1         norway  0.970     13.117962    112710.02110\n",
       "2      singapore  0.946     11.990000    111239.22910\n",
       "3          qatar  0.886     10.770000    105353.26800\n",
       "4        ireland  0.949     11.725000     90884.63459"
      ],
      "text/html": [
       "<div>\n",
       "<style scoped>\n",
       "    .dataframe tbody tr th:only-of-type {\n",
       "        vertical-align: middle;\n",
       "    }\n",
       "\n",
       "    .dataframe tbody tr th {\n",
       "        vertical-align: top;\n",
       "    }\n",
       "\n",
       "    .dataframe thead th {\n",
       "        text-align: right;\n",
       "    }\n",
       "</style>\n",
       "<table border=\"1\" class=\"dataframe\">\n",
       "  <thead>\n",
       "    <tr style=\"text-align: right;\">\n",
       "      <th></th>\n",
       "      <th>País</th>\n",
       "      <th>IDH</th>\n",
       "      <th>ESCOLARIDADE</th>\n",
       "      <th>PIB PER CAPITA</th>\n",
       "    </tr>\n",
       "  </thead>\n",
       "  <tbody>\n",
       "    <tr>\n",
       "      <th>0</th>\n",
       "      <td>liechtenstein</td>\n",
       "      <td>0.938</td>\n",
       "      <td>12.409959</td>\n",
       "      <td>166811.67410</td>\n",
       "    </tr>\n",
       "    <tr>\n",
       "      <th>1</th>\n",
       "      <td>norway</td>\n",
       "      <td>0.970</td>\n",
       "      <td>13.117962</td>\n",
       "      <td>112710.02110</td>\n",
       "    </tr>\n",
       "    <tr>\n",
       "      <th>2</th>\n",
       "      <td>singapore</td>\n",
       "      <td>0.946</td>\n",
       "      <td>11.990000</td>\n",
       "      <td>111239.22910</td>\n",
       "    </tr>\n",
       "    <tr>\n",
       "      <th>3</th>\n",
       "      <td>qatar</td>\n",
       "      <td>0.886</td>\n",
       "      <td>10.770000</td>\n",
       "      <td>105353.26800</td>\n",
       "    </tr>\n",
       "    <tr>\n",
       "      <th>4</th>\n",
       "      <td>ireland</td>\n",
       "      <td>0.949</td>\n",
       "      <td>11.725000</td>\n",
       "      <td>90884.63459</td>\n",
       "    </tr>\n",
       "  </tbody>\n",
       "</table>\n",
       "</div>"
      ]
     },
     "execution_count": 319,
     "metadata": {},
     "output_type": "execute_result"
    }
   ],
   "execution_count": 319
  },
  {
   "metadata": {
    "ExecuteTime": {
     "end_time": "2025-10-24T19:23:19.470400Z",
     "start_time": "2025-10-24T19:23:19.467276Z"
    }
   },
   "cell_type": "code",
   "source": [
    "#Removendo pontos dos nomes dos países e continentes caso tenha\n",
    "df_continente['Continente'] = df_continente['Continente'].str.replace('.', ' ')\n",
    "df_continente['País'] = df_continente['País'].str.replace('.', ' ')\n",
    "df_desenvolvimento['País'] = df_desenvolvimento['País'].str.replace('.', ' ')"
   ],
   "id": "fda22e2a8bcb91b4",
   "outputs": [],
   "execution_count": 320
  },
  {
   "metadata": {
    "ExecuteTime": {
     "end_time": "2025-10-24T19:23:19.638452Z",
     "start_time": "2025-10-24T19:23:19.519059Z"
    }
   },
   "cell_type": "code",
   "source": [
    "#Conferindo os dataframes após as alterações\n",
    "df_desenvolvimento.head()"
   ],
   "id": "34c944eb81b3d74f",
   "outputs": [
    {
     "data": {
      "text/plain": [
       "            País    IDH  ESCOLARIDADE  PIB PER CAPITA\n",
       "0  liechtenstein  0.938     12.409959    166811.67410\n",
       "1         norway  0.970     13.117962    112710.02110\n",
       "2      singapore  0.946     11.990000    111239.22910\n",
       "3          qatar  0.886     10.770000    105353.26800\n",
       "4        ireland  0.949     11.725000     90884.63459"
      ],
      "text/html": [
       "<div>\n",
       "<style scoped>\n",
       "    .dataframe tbody tr th:only-of-type {\n",
       "        vertical-align: middle;\n",
       "    }\n",
       "\n",
       "    .dataframe tbody tr th {\n",
       "        vertical-align: top;\n",
       "    }\n",
       "\n",
       "    .dataframe thead th {\n",
       "        text-align: right;\n",
       "    }\n",
       "</style>\n",
       "<table border=\"1\" class=\"dataframe\">\n",
       "  <thead>\n",
       "    <tr style=\"text-align: right;\">\n",
       "      <th></th>\n",
       "      <th>País</th>\n",
       "      <th>IDH</th>\n",
       "      <th>ESCOLARIDADE</th>\n",
       "      <th>PIB PER CAPITA</th>\n",
       "    </tr>\n",
       "  </thead>\n",
       "  <tbody>\n",
       "    <tr>\n",
       "      <th>0</th>\n",
       "      <td>liechtenstein</td>\n",
       "      <td>0.938</td>\n",
       "      <td>12.409959</td>\n",
       "      <td>166811.67410</td>\n",
       "    </tr>\n",
       "    <tr>\n",
       "      <th>1</th>\n",
       "      <td>norway</td>\n",
       "      <td>0.970</td>\n",
       "      <td>13.117962</td>\n",
       "      <td>112710.02110</td>\n",
       "    </tr>\n",
       "    <tr>\n",
       "      <th>2</th>\n",
       "      <td>singapore</td>\n",
       "      <td>0.946</td>\n",
       "      <td>11.990000</td>\n",
       "      <td>111239.22910</td>\n",
       "    </tr>\n",
       "    <tr>\n",
       "      <th>3</th>\n",
       "      <td>qatar</td>\n",
       "      <td>0.886</td>\n",
       "      <td>10.770000</td>\n",
       "      <td>105353.26800</td>\n",
       "    </tr>\n",
       "    <tr>\n",
       "      <th>4</th>\n",
       "      <td>ireland</td>\n",
       "      <td>0.949</td>\n",
       "      <td>11.725000</td>\n",
       "      <td>90884.63459</td>\n",
       "    </tr>\n",
       "  </tbody>\n",
       "</table>\n",
       "</div>"
      ]
     },
     "execution_count": 321,
     "metadata": {},
     "output_type": "execute_result"
    }
   ],
   "execution_count": 321
  },
  {
   "metadata": {
    "ExecuteTime": {
     "end_time": "2025-10-24T19:23:19.825831Z",
     "start_time": "2025-10-24T19:23:19.707972Z"
    }
   },
   "cell_type": "code",
   "source": [
    "#Conferindo os dataframes após as alterações\n",
    "df_continente.head()"
   ],
   "id": "183a3895fb0111dc",
   "outputs": [
    {
     "data": {
      "text/plain": [
       "          País Continente\n",
       "0      iceland     Europa\n",
       "1       norway     Europa\n",
       "2  switzerland     Europa\n",
       "3      denmark     Europa\n",
       "4      germany     Europa"
      ],
      "text/html": [
       "<div>\n",
       "<style scoped>\n",
       "    .dataframe tbody tr th:only-of-type {\n",
       "        vertical-align: middle;\n",
       "    }\n",
       "\n",
       "    .dataframe tbody tr th {\n",
       "        vertical-align: top;\n",
       "    }\n",
       "\n",
       "    .dataframe thead th {\n",
       "        text-align: right;\n",
       "    }\n",
       "</style>\n",
       "<table border=\"1\" class=\"dataframe\">\n",
       "  <thead>\n",
       "    <tr style=\"text-align: right;\">\n",
       "      <th></th>\n",
       "      <th>País</th>\n",
       "      <th>Continente</th>\n",
       "    </tr>\n",
       "  </thead>\n",
       "  <tbody>\n",
       "    <tr>\n",
       "      <th>0</th>\n",
       "      <td>iceland</td>\n",
       "      <td>Europa</td>\n",
       "    </tr>\n",
       "    <tr>\n",
       "      <th>1</th>\n",
       "      <td>norway</td>\n",
       "      <td>Europa</td>\n",
       "    </tr>\n",
       "    <tr>\n",
       "      <th>2</th>\n",
       "      <td>switzerland</td>\n",
       "      <td>Europa</td>\n",
       "    </tr>\n",
       "    <tr>\n",
       "      <th>3</th>\n",
       "      <td>denmark</td>\n",
       "      <td>Europa</td>\n",
       "    </tr>\n",
       "    <tr>\n",
       "      <th>4</th>\n",
       "      <td>germany</td>\n",
       "      <td>Europa</td>\n",
       "    </tr>\n",
       "  </tbody>\n",
       "</table>\n",
       "</div>"
      ]
     },
     "execution_count": 322,
     "metadata": {},
     "output_type": "execute_result"
    }
   ],
   "execution_count": 322
  },
  {
   "metadata": {
    "ExecuteTime": {
     "end_time": "2025-10-24T19:23:20.030138Z",
     "start_time": "2025-10-24T19:23:20.026631Z"
    }
   },
   "cell_type": "code",
   "source": [
    "#Função para remover espaços em branco excessivos entre as palavras dos nomes dos países e continentes caso exista\n",
    "def remove_espacos_excessivos(nome_original):\n",
    "    #Removendo espaços em branco no início e no final do nome\n",
    "    nome_primeiro_ajuste = nome_original.strip()\n",
    "    #Removendo espaços em branco duplicados entre as palavras do nome\n",
    "    nome_ajustado = ' '.join(nome_primeiro_ajuste.split())\n",
    "    return nome_ajustado\n",
    "\n",
    "#Aplicando a função para remover espaços em branco excessivos\n",
    "df_desenvolvimento['País'] = df_desenvolvimento['País'].apply(remove_espacos_excessivos)\n",
    "df_continente['Continente'] = df_continente['Continente'].apply(remove_espacos_excessivos)\n",
    "df_continente['País'] = df_continente['País'].apply(remove_espacos_excessivos)"
   ],
   "id": "c0a6e9f6c55db768",
   "outputs": [],
   "execution_count": 323
  },
  {
   "metadata": {
    "ExecuteTime": {
     "end_time": "2025-10-24T19:23:20.126338Z",
     "start_time": "2025-10-24T19:23:20.078784Z"
    }
   },
   "cell_type": "code",
   "source": [
    "#Conferindo os dataframes após as alterações\n",
    "df_desenvolvimento.head()"
   ],
   "id": "8476f845d71e9c97",
   "outputs": [
    {
     "data": {
      "text/plain": [
       "            País    IDH  ESCOLARIDADE  PIB PER CAPITA\n",
       "0  liechtenstein  0.938     12.409959    166811.67410\n",
       "1         norway  0.970     13.117962    112710.02110\n",
       "2      singapore  0.946     11.990000    111239.22910\n",
       "3          qatar  0.886     10.770000    105353.26800\n",
       "4        ireland  0.949     11.725000     90884.63459"
      ],
      "text/html": [
       "<div>\n",
       "<style scoped>\n",
       "    .dataframe tbody tr th:only-of-type {\n",
       "        vertical-align: middle;\n",
       "    }\n",
       "\n",
       "    .dataframe tbody tr th {\n",
       "        vertical-align: top;\n",
       "    }\n",
       "\n",
       "    .dataframe thead th {\n",
       "        text-align: right;\n",
       "    }\n",
       "</style>\n",
       "<table border=\"1\" class=\"dataframe\">\n",
       "  <thead>\n",
       "    <tr style=\"text-align: right;\">\n",
       "      <th></th>\n",
       "      <th>País</th>\n",
       "      <th>IDH</th>\n",
       "      <th>ESCOLARIDADE</th>\n",
       "      <th>PIB PER CAPITA</th>\n",
       "    </tr>\n",
       "  </thead>\n",
       "  <tbody>\n",
       "    <tr>\n",
       "      <th>0</th>\n",
       "      <td>liechtenstein</td>\n",
       "      <td>0.938</td>\n",
       "      <td>12.409959</td>\n",
       "      <td>166811.67410</td>\n",
       "    </tr>\n",
       "    <tr>\n",
       "      <th>1</th>\n",
       "      <td>norway</td>\n",
       "      <td>0.970</td>\n",
       "      <td>13.117962</td>\n",
       "      <td>112710.02110</td>\n",
       "    </tr>\n",
       "    <tr>\n",
       "      <th>2</th>\n",
       "      <td>singapore</td>\n",
       "      <td>0.946</td>\n",
       "      <td>11.990000</td>\n",
       "      <td>111239.22910</td>\n",
       "    </tr>\n",
       "    <tr>\n",
       "      <th>3</th>\n",
       "      <td>qatar</td>\n",
       "      <td>0.886</td>\n",
       "      <td>10.770000</td>\n",
       "      <td>105353.26800</td>\n",
       "    </tr>\n",
       "    <tr>\n",
       "      <th>4</th>\n",
       "      <td>ireland</td>\n",
       "      <td>0.949</td>\n",
       "      <td>11.725000</td>\n",
       "      <td>90884.63459</td>\n",
       "    </tr>\n",
       "  </tbody>\n",
       "</table>\n",
       "</div>"
      ]
     },
     "execution_count": 324,
     "metadata": {},
     "output_type": "execute_result"
    }
   ],
   "execution_count": 324
  },
  {
   "metadata": {
    "ExecuteTime": {
     "end_time": "2025-10-24T19:23:20.198862Z",
     "start_time": "2025-10-24T19:23:20.194638Z"
    }
   },
   "cell_type": "code",
   "source": [
    "#Conferindo os dataframes após as alterações\n",
    "df_continente.head()"
   ],
   "id": "aa964583b4b732d8",
   "outputs": [
    {
     "data": {
      "text/plain": [
       "          País Continente\n",
       "0      iceland     Europa\n",
       "1       norway     Europa\n",
       "2  switzerland     Europa\n",
       "3      denmark     Europa\n",
       "4      germany     Europa"
      ],
      "text/html": [
       "<div>\n",
       "<style scoped>\n",
       "    .dataframe tbody tr th:only-of-type {\n",
       "        vertical-align: middle;\n",
       "    }\n",
       "\n",
       "    .dataframe tbody tr th {\n",
       "        vertical-align: top;\n",
       "    }\n",
       "\n",
       "    .dataframe thead th {\n",
       "        text-align: right;\n",
       "    }\n",
       "</style>\n",
       "<table border=\"1\" class=\"dataframe\">\n",
       "  <thead>\n",
       "    <tr style=\"text-align: right;\">\n",
       "      <th></th>\n",
       "      <th>País</th>\n",
       "      <th>Continente</th>\n",
       "    </tr>\n",
       "  </thead>\n",
       "  <tbody>\n",
       "    <tr>\n",
       "      <th>0</th>\n",
       "      <td>iceland</td>\n",
       "      <td>Europa</td>\n",
       "    </tr>\n",
       "    <tr>\n",
       "      <th>1</th>\n",
       "      <td>norway</td>\n",
       "      <td>Europa</td>\n",
       "    </tr>\n",
       "    <tr>\n",
       "      <th>2</th>\n",
       "      <td>switzerland</td>\n",
       "      <td>Europa</td>\n",
       "    </tr>\n",
       "    <tr>\n",
       "      <th>3</th>\n",
       "      <td>denmark</td>\n",
       "      <td>Europa</td>\n",
       "    </tr>\n",
       "    <tr>\n",
       "      <th>4</th>\n",
       "      <td>germany</td>\n",
       "      <td>Europa</td>\n",
       "    </tr>\n",
       "  </tbody>\n",
       "</table>\n",
       "</div>"
      ]
     },
     "execution_count": 325,
     "metadata": {},
     "output_type": "execute_result"
    }
   ],
   "execution_count": 325
  },
  {
   "metadata": {
    "ExecuteTime": {
     "end_time": "2025-10-24T19:23:20.563929Z",
     "start_time": "2025-10-24T19:23:20.557097Z"
    }
   },
   "cell_type": "code",
   "source": [
    "#Realizando o merge entre os dataframes df_desenvolvimento e df_continente\n",
    "df_completo = df_desenvolvimento.merge(right=df_continente, on='País', how='right')\n",
    "\n",
    "df_completo.head()"
   ],
   "id": "c78ede4a9b63af12",
   "outputs": [
    {
     "data": {
      "text/plain": [
       "          País    IDH  ESCOLARIDADE  PIB PER CAPITA Continente\n",
       "0      iceland  0.972     13.908926     69116.93736     Europa\n",
       "1       norway  0.970     13.117962    112710.02110     Europa\n",
       "2  switzerland  0.970     13.949121     81948.90177     Europa\n",
       "3      denmark  0.962     13.027321     76007.85669     Europa\n",
       "4      germany  0.959     14.296372     64053.22124     Europa"
      ],
      "text/html": [
       "<div>\n",
       "<style scoped>\n",
       "    .dataframe tbody tr th:only-of-type {\n",
       "        vertical-align: middle;\n",
       "    }\n",
       "\n",
       "    .dataframe tbody tr th {\n",
       "        vertical-align: top;\n",
       "    }\n",
       "\n",
       "    .dataframe thead th {\n",
       "        text-align: right;\n",
       "    }\n",
       "</style>\n",
       "<table border=\"1\" class=\"dataframe\">\n",
       "  <thead>\n",
       "    <tr style=\"text-align: right;\">\n",
       "      <th></th>\n",
       "      <th>País</th>\n",
       "      <th>IDH</th>\n",
       "      <th>ESCOLARIDADE</th>\n",
       "      <th>PIB PER CAPITA</th>\n",
       "      <th>Continente</th>\n",
       "    </tr>\n",
       "  </thead>\n",
       "  <tbody>\n",
       "    <tr>\n",
       "      <th>0</th>\n",
       "      <td>iceland</td>\n",
       "      <td>0.972</td>\n",
       "      <td>13.908926</td>\n",
       "      <td>69116.93736</td>\n",
       "      <td>Europa</td>\n",
       "    </tr>\n",
       "    <tr>\n",
       "      <th>1</th>\n",
       "      <td>norway</td>\n",
       "      <td>0.970</td>\n",
       "      <td>13.117962</td>\n",
       "      <td>112710.02110</td>\n",
       "      <td>Europa</td>\n",
       "    </tr>\n",
       "    <tr>\n",
       "      <th>2</th>\n",
       "      <td>switzerland</td>\n",
       "      <td>0.970</td>\n",
       "      <td>13.949121</td>\n",
       "      <td>81948.90177</td>\n",
       "      <td>Europa</td>\n",
       "    </tr>\n",
       "    <tr>\n",
       "      <th>3</th>\n",
       "      <td>denmark</td>\n",
       "      <td>0.962</td>\n",
       "      <td>13.027321</td>\n",
       "      <td>76007.85669</td>\n",
       "      <td>Europa</td>\n",
       "    </tr>\n",
       "    <tr>\n",
       "      <th>4</th>\n",
       "      <td>germany</td>\n",
       "      <td>0.959</td>\n",
       "      <td>14.296372</td>\n",
       "      <td>64053.22124</td>\n",
       "      <td>Europa</td>\n",
       "    </tr>\n",
       "  </tbody>\n",
       "</table>\n",
       "</div>"
      ]
     },
     "execution_count": 326,
     "metadata": {},
     "output_type": "execute_result"
    }
   ],
   "execution_count": 326
  },
  {
   "metadata": {
    "ExecuteTime": {
     "end_time": "2025-10-24T19:23:20.680165Z",
     "start_time": "2025-10-24T19:23:20.677414Z"
    }
   },
   "cell_type": "code",
   "source": [
    "#Verificando a quantidade de valores nulos na coluna Continente do dataframe df_completo\n",
    "df_completo['Continente'].isna().sum()"
   ],
   "id": "e87096a9b8d37715",
   "outputs": [
    {
     "data": {
      "text/plain": [
       "np.int64(0)"
      ]
     },
     "execution_count": 327,
     "metadata": {},
     "output_type": "execute_result"
    }
   ],
   "execution_count": 327
  },
  {
   "metadata": {
    "ExecuteTime": {
     "end_time": "2025-10-24T19:23:20.802739Z",
     "start_time": "2025-10-24T19:23:20.797648Z"
    }
   },
   "cell_type": "code",
   "source": [
    "#Exibindo as informações do dataframe df_completo\n",
    "df_completo.info()"
   ],
   "id": "1a776b2656070ad7",
   "outputs": [
    {
     "name": "stdout",
     "output_type": "stream",
     "text": [
      "<class 'pandas.core.frame.DataFrame'>\n",
      "RangeIndex: 193 entries, 0 to 192\n",
      "Data columns (total 5 columns):\n",
      " #   Column          Non-Null Count  Dtype  \n",
      "---  ------          --------------  -----  \n",
      " 0   País            193 non-null    object \n",
      " 1   IDH             193 non-null    float64\n",
      " 2   ESCOLARIDADE    193 non-null    float64\n",
      " 3   PIB PER CAPITA  193 non-null    float64\n",
      " 4   Continente      193 non-null    object \n",
      "dtypes: float64(3), object(2)\n",
      "memory usage: 7.7+ KB\n"
     ]
    }
   ],
   "execution_count": 328
  },
  {
   "metadata": {
    "ExecuteTime": {
     "end_time": "2025-10-24T19:38:50.886620Z",
     "start_time": "2025-10-24T19:38:50.565415Z"
    }
   },
   "cell_type": "code",
   "source": [
    "#Existe alguma relação entre IDH e anos médios de escolaridade?\n",
    "import matplotlib.pyplot as plt\n",
    "\n",
    "#Crriar uma figura de tamanho especificado\n",
    "plt.figure(figsize=(10, 5))\n",
    "\n",
    "#Criar um gráfico de dispersão (scatter plot)\n",
    "plt.scatter(\n",
    "    df_completo['PIB PER CAPITA'],\n",
    "    df_completo['IDH'],\n",
    "    color='r')\n",
    "#Adicionar título e rótulos aos eixos\n",
    "plt.title('Relação entre PIB PER CAPTA e IDH')\n",
    "plt.xlabel('PIB PER CAPTA')\n",
    "plt.ylabel('IDH')\n",
    "\n",
    "#Salvar o gráfico como uma imagem PNG\n",
    "plt.savefig('relacao_PIB_IDH.png', dpi=300)\n",
    "\n",
    "#Exibir o gráfico\n",
    "plt.show()"
   ],
   "id": "a65155e936c08462",
   "outputs": [
    {
     "data": {
      "text/plain": [
       "<Figure size 1000x500 with 1 Axes>"
      ],
      "image/png": "[encoded data removed]"
     },
     "metadata": {},
     "output_type": "display_data",
     "jetTransient": {
      "display_id": null
     }
    }
   ],
   "execution_count": 335
  },
  {
   "metadata": {
    "ExecuteTime": {
     "end_time": "2025-10-24T19:39:41.350604Z",
     "start_time": "2025-10-24T19:39:41.035550Z"
    }
   },
   "cell_type": "code",
   "source": [
    "#Existe alguma relação entre IDH e Anos de Escolaridade?\n",
    "plt.figure(figsize=(10,5))\n",
    "\n",
    "#Gráfico de dispersão entre Anos de Escolaridade e IDH\n",
    "plt.scatter(\n",
    "    df_completo['ESCOLARIDADE'],\n",
    "    df_completo['IDH'],\n",
    "    color='r')\n",
    "\n",
    "#Adicionando título e rótulos aos eixos\n",
    "plt.title('Relação entre Anos de Escolaridade e IDH')\n",
    "plt.xlabel('Anos de Escolaridade')\n",
    "plt.ylabel('IDH')\n",
    "\n",
    "#Salvar o gráfico como uma imagem PNG\n",
    "plt.savefig('relacao_escolaridade_IDH.png', dpi=300)\n",
    "\n",
    "#Exibindo o gráfico\n",
    "plt.show()"
   ],
   "id": "f3b02b75c20a02df",
   "outputs": [
    {
     "data": {
      "text/plain": [
       "<Figure size 1000x500 with 1 Axes>"
      ],
      "image/png": "[encoded data removed]"
     },
     "metadata": {},
     "output_type": "display_data",
     "jetTransient": {
      "display_id": null
     }
    }
   ],
   "execution_count": 336
  },
  {
   "metadata": {
    "ExecuteTime": {
     "end_time": "2025-10-24T19:40:11.747450Z",
     "start_time": "2025-10-24T19:40:11.498373Z"
    }
   },
   "cell_type": "code",
   "source": [
    "#Qual a média do IDH por continente?\n",
    "#Agrupando por continente e calculando a média do IDH\n",
    "media_por_continente = (df_completo.groupby('Continente')['IDH'].mean().to_frame().reset_index()).sort_values('IDH', ascending=False)\n",
    "\n",
    "#Criar uma figura de tamanho especificado\n",
    "plt.figure(figsize=(10,5))\n",
    "\n",
    "#Gráfico de barras da média do IDH por continente\n",
    "plt.bar(\n",
    "    media_por_continente['Continente'],\n",
    "    media_por_continente['IDH'],\n",
    "    color='g')\n",
    "\n",
    "#Adicionando título e rótulos aos eixos\n",
    "plt.title('Média do IDH por Continente')\n",
    "plt.ylabel('Média do IDH')\n",
    "\n",
    "#Salvar o gráfico como uma imagem PNG\n",
    "plt.savefig('media_IDH_continente.png', dpi=300)\n",
    "\n",
    "#Exibindo o gráfico\n",
    "plt.show()"
   ],
   "id": "82c0ca19d78d93a8",
   "outputs": [
    {
     "data": {
      "text/plain": [
       "<Figure size 1000x500 with 1 Axes>"
      ],
      "image/png": "[encoded data removed]"
     },
     "metadata": {},
     "output_type": "display_data",
     "jetTransient": {
      "display_id": null
     }
    }
   ],
   "execution_count": 337
  },
  {
   "metadata": {
    "ExecuteTime": {
     "end_time": "2025-10-24T19:40:44.090747Z",
     "start_time": "2025-10-24T19:40:43.827392Z"
    }
   },
   "cell_type": "code",
   "source": [
    "#Quantos países possuem IDH acima da média mundial?\n",
    "#Calcula o número total de países\n",
    "numero_total_paises = (df_completo.groupby(['Continente'])['País'].count().to_frame().reset_index()).sort_values(by= 'País', ascending=False)\n",
    "\n",
    "# Calcula a média global\n",
    "media_global = df_completo['IDH'].mean()\n",
    "\n",
    "#Calcula o número de países com IDH acima da média global\n",
    "paises_acima_media_global = df_completo[df_completo['IDH'] > media_global]\n",
    "\n",
    "#Agrupa por continente e conta o número de países\n",
    "numero_paises_acima_media_global = (paises_acima_media_global.groupby(['Continente'])['País'].count().to_frame().reset_index()).sort_values('País', ascending=False)\n",
    "\n",
    "#Calcula o percentual de países com IDH acima da média global por continente\n",
    "numero_paises_acima_media_global['percentual_acima_media'] = numero_paises_acima_media_global['País'] / numero_total_paises['País'] * 100\n",
    "numero_paises_acima_media_global = numero_paises_acima_media_global.sort_values('percentual_acima_media', ascending=False)\n",
    "numero_paises_acima_media_global\n",
    "\n",
    "#Criar uma figura de tamanho especificado\n",
    "plt.figure(figsize=(10,5))\n",
    "\n",
    "#Gráfico de barras dos países com IDH acima da média mundial\n",
    "plt.bar(\n",
    "    numero_paises_acima_media_global['Continente'],\n",
    "    numero_paises_acima_media_global['percentual_acima_media'],\n",
    "    color='b')\n",
    "\n",
    "#Adicionando título e rótulos aos eixos\n",
    "plt.title('Países com IDH acima da Média Mundial')\n",
    "plt.ylabel('IDH')\n",
    "plt.xticks(rotation=90)\n",
    "\n",
    "#Salvar o gráfico como uma imagem PNG\n",
    "plt.savefig('paises_IDH_acima_media.png', dpi=300)\n",
    "\n",
    "#Exibindo o gráfico\n",
    "plt.show()"
   ],
   "id": "927253870bbb598",
   "outputs": [
    {
     "data": {
      "text/plain": [
       "<Figure size 1000x500 with 1 Axes>"
      ],
      "image/png": "[encoded data removed]"
     },
     "metadata": {},
     "output_type": "display_data",
     "jetTransient": {
      "display_id": null
     }
    }
   ],
   "execution_count": 338
  },
  {
   "metadata": {
    "ExecuteTime": {
     "end_time": "2025-10-24T19:36:17.630608Z",
     "start_time": "2025-10-24T19:36:17.624474Z"
    }
   },
   "cell_type": "code",
   "source": "df_completo.to_csv('tabela_idh_por_pais_e_continente.csv', index=False, sep=';', encoding='utf-8')",
   "id": "fc374b1c12bf617d",
   "outputs": [],
   "execution_count": 334
  }
 ],
 "metadata": {
  "kernelspec": {
   "display_name": "Python 3 (ipykernel)",
   "language": "python",
   "name": "python3"
  },
  "language_info": {
   "codemirror_mode": {
    "name": "ipython",
    "version": 2
   },
   "file_extension": ".py",
   "mimetype": "text/x-python",
   "name": "python",
   "nbconvert_exporter": "python",
   "pygments_lexer": "ipython2",
   "version": "2.7.6"
  }
 },
 "nbformat": 4,
 "nbformat_minor": 5
}
